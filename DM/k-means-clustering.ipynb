{
 "cells": [
  {
   "cell_type": "code",
   "execution_count": 74,
   "metadata": {},
   "outputs": [
    {
     "name": "stdout",
     "output_type": "stream",
     "text": [
      "K - Cluster Program\n",
      "Arshan AHmad- 18BCS075\n"
     ]
    }
   ],
   "source": [
    "print(\"K - Cluster Program\")\n",
    "print(\"Arshan AHmad- 18BCS075\")"
   ]
  },
  {
   "cell_type": "code",
   "execution_count": 75,
   "metadata": {},
   "outputs": [
    {
     "name": "stdout",
     "output_type": "stream",
     "text": [
      "[3.5, 6.1, 13.5, 4.4, 1.7, 11.2, 12.3, 13.2, 19.6, 17.7, 12.0, 19.2, 16.5, 12.8, 8.2, 5.1, 14.9, 11.6, 9.4, 1.2, 7.2, 4.2, 3.4, 8.7]\n"
     ]
    }
   ],
   "source": [
    "import math\n",
    "#for calulating which k give max ED distance\n",
    "def EDcalculate(k_value,a,b):\n",
    "    temp=[]\n",
    "    for i in k_value:\n",
    "        temp.append(math.sqrt(((i[0]-a)**2) + ((i[1]-b)**2)))\n",
    "    max_value=max(temp)\n",
    "    max_index=temp.index(max_value)\n",
    "    return max_index\n",
    "\n",
    "#To find new k value when a new element is added\n",
    "def k_max_avg(x,y,k_value,max_k_index):\n",
    "    sum=0\n",
    "    for i in x:\n",
    "        sum+=i\n",
    "    k_value[max_k_index][0]=sum/len(x)\n",
    "    sum=0\n",
    "    for i in y:\n",
    "        sum+=i\n",
    "    k_value[max_k_index][1]=sum/len(x)\n",
    "\n",
    "def kcluster(x,y,n):\n",
    "    k_bag=[] #list to store element in diff K\n",
    "    k_value=[] #diff K value\n",
    "    for i in range(n):\n",
    "        temp_x=x[i]\n",
    "        temp_y=y[i]\n",
    "        k_bag.append([[temp_x],[temp_y],[i]])\n",
    "        k_value.append([temp_x,temp_y])\n",
    "    for i in range(n,len(x)):\n",
    "        max_k_index=EDcalculate(k_value,x[i],y[i])\n",
    "        k_bag[max_k_index][0].append(x[i])\n",
    "        k_bag[max_k_index][1].append(y[i])\n",
    "        k_bag[max_k_index][2].append(i)\n",
    "        k_max_avg(k_bag[max_k_index][0],k_bag[max_k_index][1],k_value,max_k_index)\n",
    "    print(\"Index of elements when in clustering when k=:\",n)\n",
    "    for i in range(0,n):\n",
    "        print(\"k\",i+1,\": \",k_bag[i][2])\n",
    "\n",
    "\n",
    "#input from csv file\n",
    "with open(\"clustering.csv\") as f:\n",
    "    data=f.read()\n",
    "    rows=data.split('\\n')\n",
    "    x=[]\n",
    "    y=[]\n",
    "    for row in rows:\n",
    "        y.append(float(row.split(',')[2]))\n",
    "        x.append(float(row.split(',')[1]))\n",
    "\n",
    "print(x)"
   ]
  },
  {
   "cell_type": "code",
   "execution_count": 76,
   "metadata": {},
   "outputs": [
    {
     "name": "stdout",
     "output_type": "stream",
     "text": [
      "Index of elements when in clustering when k=: 2\n",
      "k 1 :  [0, 2, 4, 6, 8, 10, 11, 15, 16, 18, 19, 22, 23]\n",
      "k 2 :  [1, 3, 5, 7, 9, 12, 13, 14, 17, 20, 21]\n",
      "Index of elements when in clustering when k=: 3\n",
      "k 1 :  [0, 6, 9, 10, 15, 16, 20, 22]\n",
      "k 2 :  [1, 3, 5, 7, 11, 12, 13, 14, 18, 19, 23]\n",
      "k 3 :  [2, 4, 8, 17, 21]\n",
      "Index of elements when in clustering when k=: 4\n",
      "k 1 :  [0, 8, 23]\n",
      "k 2 :  [1, 6, 11, 17, 20, 22]\n",
      "k 3 :  [2, 10, 19, 21]\n",
      "k 4 :  [3, 4, 5, 7, 9, 12, 13, 14, 15, 16, 18]\n"
     ]
    }
   ],
   "source": [
    "#choosing Different K\n",
    "for i in range(2,5):\n",
    "    kcluster(x,y,i)\n"
   ]
  }
 ],
 "metadata": {
  "interpreter": {
   "hash": "767d51c1340bd893661ea55ea3124f6de3c7a262a8b4abca0554b478b1e2ff90"
  },
  "kernelspec": {
   "display_name": "Python 3.6.9 64-bit",
   "language": "python",
   "name": "python3"
  },
  "language_info": {
   "codemirror_mode": {
    "name": "ipython",
    "version": 3
   },
   "file_extension": ".py",
   "mimetype": "text/x-python",
   "name": "python",
   "nbconvert_exporter": "python",
   "pygments_lexer": "ipython3",
   "version": "3.6.9"
  },
  "orig_nbformat": 4
 },
 "nbformat": 4,
 "nbformat_minor": 2
}
