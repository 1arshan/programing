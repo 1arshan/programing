{
 "cells": [
  {
   "cell_type": "code",
   "execution_count": 67,
   "source": [
    "print(\"Linear Regression Program\")\n",
    "print(\"Arshan AHmad- 18BCS075\")"
   ],
   "outputs": [
    {
     "output_type": "stream",
     "name": "stdout",
     "text": [
      "Linear Regression Program\n",
      "Arshan AHmad- 18BCS075\n"
     ]
    }
   ],
   "metadata": {}
  },
  {
   "cell_type": "code",
   "execution_count": 68,
   "source": [
    "#input\n",
    "with open(\"lr_dataset.csv\") as f:\n",
    "    data=f.read()\n",
    "    rows=data.split('\\n')\n",
    "    x_coordinate=[]\n",
    "    y_coordinate=[]\n",
    "    for row in rows:\n",
    "        y_coordinate.append(float(row.split(',')[0]))\n",
    "        x_coordinate.append(float(row.split(',')[1]))\n",
    "\n",
    "#training dataset\n",
    "#total 100 dataset 80 is use for training rest 20 is use for testing\n",
    "y_training = y_coordinate[0:80]\n",
    "x_training = x_coordinate[0:80]\n",
    "y_testing =  y_coordinate[81:100]\n",
    "x_testing =  x_coordinate[81:100]\n",
    "\n"
   ],
   "outputs": [],
   "metadata": {}
  },
  {
   "cell_type": "code",
   "execution_count": 69,
   "source": [
    "temp=0\n",
    "for i in y_training:\n",
    "    temp+=i\n",
    "y_mean_training=temp/len(y_training)\n",
    "temp=0\n",
    "\n",
    "for i in x_training:\n",
    "    temp+=i\n",
    "x_mean_training=temp/len(x_training)\n",
    "\n",
    "\n",
    "coeffceint_y_diff = 0\n",
    "coeffceint_x_diff = 0\n",
    "for i in range(len(x_training)):\n",
    "    coeffceint_y_diff += (x_training[i]-x_mean_training)*(y_training[i]-y_mean_training)\n",
    "    coeffceint_x_diff += (x_training[i]-x_mean_training)*(x_training[i]-x_mean_training)\n",
    "\n",
    "coeffceint = coeffceint_y_diff/coeffceint_x_diff\n",
    "\n",
    "intercept = y_mean_training - coeffceint*x_mean_training\n",
    "\n",
    "print(\"coefiicent\",coeffceint)\n",
    "print(\"intercept\",intercept)\n",
    "\n"
   ],
   "outputs": [
    {
     "output_type": "stream",
     "name": "stdout",
     "text": [
      "coefiicent 0.2952073501350545\n",
      "intercept 40.5211628239233\n"
     ]
    }
   ],
   "metadata": {}
  },
  {
   "cell_type": "code",
   "execution_count": 70,
   "source": [
    "#residual sum of square\n",
    "RSS = 0\n",
    "\n",
    "for i in range(len(x_testing)):\n",
    "    t = y_testing[i] - intercept - coeffceint*x_testing[i]\n",
    "    RSS += t*t\n",
    "    \n",
    "print(\"Residual Sum of Square\", RSS)"
   ],
   "outputs": [
    {
     "output_type": "stream",
     "name": "stdout",
     "text": [
      "Residual Sum of Square 338240.46697392315\n"
     ]
    }
   ],
   "metadata": {}
  }
 ],
 "metadata": {
  "orig_nbformat": 4,
  "language_info": {
   "name": "python",
   "version": "3.6.9",
   "mimetype": "text/x-python",
   "codemirror_mode": {
    "name": "ipython",
    "version": 3
   },
   "pygments_lexer": "ipython3",
   "nbconvert_exporter": "python",
   "file_extension": ".py"
  },
  "kernelspec": {
   "name": "python3",
   "display_name": "Python 3.6.9 64-bit"
  },
  "interpreter": {
   "hash": "767d51c1340bd893661ea55ea3124f6de3c7a262a8b4abca0554b478b1e2ff90"
  }
 },
 "nbformat": 4,
 "nbformat_minor": 2
}