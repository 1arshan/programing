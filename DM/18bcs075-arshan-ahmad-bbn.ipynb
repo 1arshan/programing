{
 "cells": [
  {
   "cell_type": "code",
   "execution_count": 106,
   "metadata": {},
   "outputs": [
    {
     "name": "stdout",
     "output_type": "stream",
     "text": [
      "Bayesian Belief Network Program\n",
      "Arshan Ahmad- 18BCS075\n"
     ]
    }
   ],
   "source": [
    "print(\"Bayesian Belief Network Program\")\n",
    "print(\"Arshan Ahmad- 18BCS075\")"
   ]
  },
  {
   "cell_type": "code",
   "execution_count": 107,
   "metadata": {},
   "outputs": [
    {
     "name": "stdout",
     "output_type": "stream",
     "text": [
      "['t', 't', 't', 't', 't', 't', 't', 't', 't', 'f', 'f', 't', 'f', 't', 'f', 't', 't', 'f', 't', 'f']\n",
      "['f', 't', 't', 't', 't', 't', 't', 't', 't', 't', 'f', 't', 't', 't', 'f', 't', 'f', 't', 't', 'f']\n",
      "['t', 't', 't', 't', 't', 't', 't', 't', 'f', 'f', 'f', 't', 'f', 'f', 'f', 'f', 't', 't', 'f', 'f']\n",
      "['f', 'f', 'f', 'f', 't', 't', 't', 't', 't', 't', 'f', 't', 'f', 'f', 't', 't', 't', 't', 't', 't']\n",
      "['t', 't', 't', 't', 't', 't', 't', 't', 't', 't', 't', 'f', 'f', 'f', 't', 't', 't', 't', 'f', 't']\n",
      "['t', 't', 't', 't', 't', 't', 't', 't', 't', 't', 't', 'f', 't', 't', 'f', 'f', 'f', 'f', 'f', 'f']\n"
     ]
    }
   ],
   "source": [
    "#input and storing into list\n",
    "with open(\"bbn.csv\") as f:\n",
    "    data=f.read()\n",
    "    rows=data.split('\\n')\n",
    "    cough=[]\n",
    "    taste=[]\n",
    "    fever=[]\n",
    "    smell=[]\n",
    "    x_ray=[]\n",
    "    ct_scan=[]\n",
    "    for row in rows:\n",
    "        cough.append(row.split(',')[0])\n",
    "        taste.append(row.split(',')[1])\n",
    "        fever.append(row.split(',')[2])\n",
    "        smell.append(row.split(',')[3])\n",
    "        x_ray.append(row.split(',')[4])\n",
    "        ct_scan.append(row.split(',')[5])\n",
    "\n",
    "cough.pop(0)\n",
    "taste.pop(0)\n",
    "fever.pop(0)\n",
    "smell.pop(0)\n",
    "x_ray.pop(0)\n",
    "ct_scan.pop(0)\n",
    "\n",
    "print(cough)\n",
    "print(taste)\n",
    "print(fever)\n",
    "print(smell)\n",
    "print(x_ray)\n",
    "print(ct_scan)"
   ]
  },
  {
   "cell_type": "code",
   "execution_count": 108,
   "metadata": {},
   "outputs": [
    {
     "name": "stdout",
     "output_type": "stream",
     "text": [
      "probabily of fever and cough when ct scan postive and xray postive:  0.7272727272727273\n"
     ]
    }
   ],
   "source": [
    "#total no of dataset\n",
    "len_of_dataset=len(cough)\n",
    "temp=0\n",
    "#probility of fever\n",
    "pf=0\n",
    "for x in fever:\n",
    "    if x=='t':\n",
    "        temp+=1\n",
    "pf=temp/len_of_dataset\n",
    "\n",
    "#probility of fever\n",
    "temp=0\n",
    "pc=0\n",
    "for x in cough:\n",
    "    if x=='t':\n",
    "        temp+=1\n",
    "pc=temp/len_of_dataset\n",
    "\n",
    "\n",
    "#probability of ct scan postive \n",
    "temp=0\n",
    "pct=0\n",
    "for x in ct_scan:\n",
    "    if x=='t':\n",
    "        temp+=1\n",
    "pct=temp/len_of_dataset\n",
    "# print(pct)\n",
    "\n",
    "#probability of x ray postive \n",
    "temp=0\n",
    "px=0\n",
    "for x in x_ray:\n",
    "    if x=='t':\n",
    "        temp+=1\n",
    "px=temp/len_of_dataset\n",
    "# print(px)\n",
    "\n",
    "temp=0\n",
    "pfcxc=0\n",
    "for i in range(0,len_of_dataset):\n",
    "    if(fever[i]=='t' and cough[i]=='t' and x_ray[i]=='t' and ct_scan[i]=='t'):\n",
    "        temp+=1\n",
    "pfcxc=temp/len_of_dataset\n",
    "# print(pfcxc)\n",
    "\n",
    "#probabily of fever and cough true together\n",
    "temp=0\n",
    "pcf=0\n",
    "for i in range(0,len_of_dataset):\n",
    "    if(fever[i]=='t' and cough[i]=='t'):\n",
    "        temp+=1\n",
    "pcf=temp/len_of_dataset\n",
    "# print(pcf)\n",
    "\n",
    "#probabily of xray and ct + together\n",
    "temp=0\n",
    "pxct=0\n",
    "for i in range(0,len_of_dataset):\n",
    "    if(x_ray[i]=='t' and ct_scan[i]=='t'):\n",
    "        temp+=1\n",
    "pxct=temp/len_of_dataset\n",
    "# print(pxct) \n",
    "\n",
    "# probability of coming ct scan postive and xray postive when experiencing fever and cough\n",
    "pcxwfc=pfcxc/(pcf) \n",
    "# print(pcxwfc)\n",
    "\n",
    "# probabily of fever and cough when ct scan postive and xray postive \n",
    "pfcwcx=pcxwfc*pcf/(pxct)\n",
    "print(\"probabily of fever and cough when ct scan postive and xray postive: \",pfcwcx)"
   ]
  },
  {
   "cell_type": "code",
   "execution_count": 109,
   "metadata": {},
   "outputs": [
    {
     "name": "stdout",
     "output_type": "stream",
     "text": [
      "0.2\n"
     ]
    }
   ],
   "source": [
    "x=pfcwcx #let x =probabily of fever and cough when ct scan postive and xray postive\n",
    "\n",
    "\n",
    "#probability of no smell and taste\n",
    "pst=0\n",
    "temp=0\n",
    "for i in range(0,len_of_dataset):\n",
    "    if(smell[i]=='t' and taste[i]=='t'):\n",
    "        temp+=1\n",
    "pst=temp/len_of_dataset\n",
    "\n",
    "#probability of no smell,no taste,fever,cough, xray + and ct +\n",
    "temp=0\n",
    "pstfcxc=0\n",
    "for i in range(0,len_of_dataset):\n",
    "    if(fever[i]=='t' and cough[i]=='t' and x_ray[i]=='t' and ct_scan[i]=='t' and taste[i]=='t' and smell[i]=='t'):\n",
    "        temp+=1\n",
    "pstfcxc=temp/len_of_dataset\n",
    "print(pstfcxc)\n",
    "\n",
    "\n"
   ]
  },
  {
   "cell_type": "code",
   "execution_count": 110,
   "metadata": {},
   "outputs": [
    {
     "name": "stdout",
     "output_type": "stream",
     "text": [
      "0.275\n"
     ]
    }
   ],
   "source": [
    "#probability of retaining taste and smell when x has happen\n",
    "pstx=(pstfcxc/pst)*(pst)/x\n",
    "print(pstx)"
   ]
  }
 ],
 "metadata": {
  "interpreter": {
   "hash": "767d51c1340bd893661ea55ea3124f6de3c7a262a8b4abca0554b478b1e2ff90"
  },
  "kernelspec": {
   "display_name": "Python 3.6.9 64-bit",
   "name": "python3"
  },
  "language_info": {
   "codemirror_mode": {
    "name": "ipython",
    "version": 3
   },
   "file_extension": ".py",
   "mimetype": "text/x-python",
   "name": "python",
   "nbconvert_exporter": "python",
   "pygments_lexer": "ipython3",
   "version": "3.6.9"
  },
  "orig_nbformat": 4
 },
 "nbformat": 4,
 "nbformat_minor": 2
}
