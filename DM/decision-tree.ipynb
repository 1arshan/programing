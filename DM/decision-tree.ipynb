{
 "cells": [
  {
   "cell_type": "code",
   "execution_count": 79,
   "metadata": {},
   "outputs": [
    {
     "name": "stdout",
     "output_type": "stream",
     "text": [
      "Decision Tree Program\n",
      "Arshan Ahmad- 18BCS075\n"
     ]
    }
   ],
   "source": [
    "print(\"Decision Tree Program\")\n",
    "print(\"Arshan Ahmad- 18BCS075\")"
   ]
  },
  {
   "cell_type": "code",
   "execution_count": 80,
   "metadata": {},
   "outputs": [],
   "source": [
    "# import math\n",
    "# #entropy for class\n",
    "# def entropy_cal(list1):\n",
    "#     temp={}\n",
    "#     for i in list1:\n",
    "#         if i in temp:\n",
    "#             temp[i]=temp[i]+1\n",
    "#         else:\n",
    "#             temp[i]=1\n",
    "#     # for key,value in temp:\n",
    "#     # print(temp)\n",
    "#     E=0\n",
    "#     for key,value in temp.items():\n",
    "#         E =E -(value/len(list1)*math.log2(value/len(list1)))\n",
    "#     return E\n",
    "\n",
    "# #entropy of each column\n",
    "# def col_entropy(list1,classification):\n",
    "#     # temp={\"yes_mammaml\":0,\"yes_nonmammal\":0,\"no_mammal\":0,\"no_nonmammal\":0}\n",
    "#     temp={}\n",
    "#     for i in range(0,len(list1)):\n",
    "#         if list1[i] in temp.keys() :\n",
    "#         # if temp[list1[i]] :\n",
    "#             d=temp[list1[i]]\n",
    "#             if classification[i] in d.keys():\n",
    "#                 d[classification[i]]+=1\n",
    "#             else:\n",
    "#                 d[classification[i]]=1\n",
    "#         else:\n",
    "#             temp[list1[i]]={}\n",
    "#     E=0\n",
    "#     temp_e=0\n",
    "#     temp_freq=0\n",
    "\n",
    "#     for key,value in temp.items():\n",
    "#         for a,b in value.items():\n",
    "#             temp_freq+=b\n",
    "#         for a,b in value.items():\n",
    "#             temp_e=temp_e-(b/temp_freq *math.log2(b/temp_freq))\n",
    "#             # E =E -(value/len(list1)*math.log2(value/len(list1)))\n",
    "#         E=E+temp_freq/len(list1)*temp_e\n",
    "#         temp_e=0\n",
    "#         temp_freq=0\n",
    "#     return E"
   ]
  },
  {
   "cell_type": "markdown",
   "metadata": {},
   "source": []
  },
  {
   "cell_type": "code",
   "execution_count": 81,
   "metadata": {},
   "outputs": [],
   "source": [
    "# def find_highest_ig(birth,fly,leg,water,classification):\n",
    "#     entropy_classification=entropy_cal(classification)\n",
    "#     info=[]\n",
    "#     info.append(col_entropy(birth,classification))\n",
    "#     info.append(col_entropy(fly,classification))\n",
    "#     info.append(col_entropy(leg,classification))\n",
    "#     info.append(col_entropy(water,classification))\n",
    "#     # print(entropy_classification)\n",
    "#     # print(entropies)\n",
    "#     ig=[]\n",
    "#     for i in info:\n",
    "#         ig.append(entropy_classification-i)\n",
    "#     print(ig)\n",
    "    "
   ]
  },
  {
   "cell_type": "code",
   "execution_count": 82,
   "metadata": {},
   "outputs": [],
   "source": [
    "#input and storing into list\n",
    "# classification=[]\n",
    "def input_from_file(): \n",
    "    with open(\"decision_tree.csv\") as f:\n",
    "        data=f.read()\n",
    "        rows=data.split('\\n')\n",
    "        birth=[]\n",
    "        fly=[]\n",
    "        legs=[]\n",
    "        water=[]\n",
    "        classification=[]\n",
    "        for row in rows:\n",
    "            birth.append(row.split(',')[1])\n",
    "            fly.append(row.split(',')[2])\n",
    "            legs.append(row.split(',')[4])\n",
    "            water.append(row.split(',')[3])\n",
    "            classification.append(row.split(',')[5])\n",
    "\n",
    "    # print(\"birth\",birth)\n",
    "    # print(\"fly\",fly)\n",
    "    # print(\"legs\",legs)\n",
    "    # print(\"water\",water)\n",
    "    # print(\"classification\",classification)\n",
    "    # find_highest_ig(birth,fly,legs,water,classification)\n",
    "    # entropy_classification=entropy_cal(classification)\n"
   ]
  },
  {
   "cell_type": "code",
   "execution_count": 83,
   "metadata": {},
   "outputs": [
    {
     "name": "stdout",
     "output_type": "stream",
     "text": [
      "[0.34551969444899167, 0.18165165592307142, 0.13054889938320868, 0.3154914292133696]\n"
     ]
    }
   ],
   "source": [
    "# print(classification)\n",
    "input_from_file()\n",
    "\n",
    "# entropy_classification=entropy_cal(classification)\n"
   ]
  }
 ],
 "metadata": {
  "interpreter": {
   "hash": "767d51c1340bd893661ea55ea3124f6de3c7a262a8b4abca0554b478b1e2ff90"
  },
  "kernelspec": {
   "display_name": "Python 3.6.9 64-bit",
   "name": "python3"
  },
  "language_info": {
   "codemirror_mode": {
    "name": "ipython",
    "version": 3
   },
   "file_extension": ".py",
   "mimetype": "text/x-python",
   "name": "python",
   "nbconvert_exporter": "python",
   "pygments_lexer": "ipython3",
   "version": "3.6.9"
  },
  "orig_nbformat": 4
 },
 "nbformat": 4,
 "nbformat_minor": 2
}
