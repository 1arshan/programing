{
 "cells": [
  {
   "cell_type": "code",
   "execution_count": 38,
   "source": [
    "print(\"Naive Bayes Program\")\n",
    "print(\"Arshan AHmad- 18BCS075\")"
   ],
   "outputs": [
    {
     "output_type": "stream",
     "name": "stdout",
     "text": [
      "Naive Bayes Program\n",
      "Arshan AHmad- 18BCS075\n"
     ]
    }
   ],
   "metadata": {}
  },
  {
   "cell_type": "code",
   "execution_count": 39,
   "source": [
    "#input and storing into list\n",
    "with open(\"nb_dataset.csv\") as f:\n",
    "    data=f.read()\n",
    "    rows=data.split('\\n')\n",
    "    fly=[]\n",
    "    legs=[]\n",
    "    wings=[]\n",
    "    classification=[]\n",
    "    for row in rows:\n",
    "        fly.append(row.split(',')[1])\n",
    "        legs.append(row.split(',')[2])\n",
    "        wings.append(row.split(',')[3])\n",
    "        classification.append(row.split(',')[4])\n",
    "\n",
    "print(classification)"
   ],
   "outputs": [
    {
     "output_type": "stream",
     "name": "stdout",
     "text": [
      "['mammals', 'non-mammals', 'non-mammals', 'mammals', 'non-mammals', 'non-mammals', 'mammals', 'non-mammals', 'mammals', 'non-mammals', 'non-mammals', 'non-mammals', 'mammals', 'non-mammals', 'non-mammals', 'non-mammals', 'mammals', 'mammals']\n"
     ]
    }
   ],
   "metadata": {}
  },
  {
   "cell_type": "code",
   "execution_count": 40,
   "source": [
    "pMW=0 #probability of mammal who have wings\n",
    "pMNCF=0 #probability of mammal who can not fly\n",
    "pMNHL=0 #probability of mammal who have no leg\n",
    "\n",
    "pNMW=0 #probability of non mammal who have wings\n",
    "pNMNF=0 #probability of non mammal who can not fly\n",
    "pNMNL=0 #probability of non mammal who have no leg\n",
    "\n",
    "temp=0\n",
    "nom=0   #total number of mammals\n",
    "nonm=0  #total number of non mammals\n",
    "for i in range(len(classification)):\n",
    "    if classification[i]==\"mammals\":\n",
    "        nom+=1\n",
    "        if wings[i]==\"yes\":\n",
    "            pMW+=1\n",
    "        if fly[i]==\"no\":\n",
    "            pMNCF+=1\n",
    "        if legs[i]==\"no\":\n",
    "            pMNHL+=1\n",
    "    else:\n",
    "        if wings[i]==\"yes\":\n",
    "            pNMW+=1\n",
    "        if fly[i]==\"no\":\n",
    "            pNMNF+=1\n",
    "        if legs[i]==\"no\":\n",
    "            pNMNL+=1\n",
    "\n",
    "pAW=(pMW+pNMW)/len(classification)\n",
    "print(\"Probability of Animal having wings\",pAW)   \n",
    "pANF=(pMNCF+pNMNF)/len(classification)\n",
    "print(\"Probability of Animal who cannot fly\",pANF)\n",
    "pANL=(pMNHL+pNMNL)/len(classification)\n",
    "print(\"Probability of Animal who cannot have legs\",pANL)\n",
    "\n",
    "pMW=pMW/nom\n",
    "print(\"Probability of Mammals having wings\",pMW) \n",
    "pMNCF=pMNCF/nom\n",
    "print(\"Probability of Mammals who cannot fly\",pMNCF)\n",
    "pMNHL=pMNHL/nom\n",
    "print(\"Probability of Mammals who have no lge\",pMNHL)\n",
    "pM=nom/len(classification)\n",
    "print(\"Probability of Mammals \",pM)\n",
    "\n",
    "nonm=len(classification)-nom\n",
    "pNMW=pNMW/nonm \n",
    "print(\"Probability of Non Mammals who have wings\",pNMW)\n",
    "pNMNF=pNMNF/nonm\n",
    "print(\"Probability of Non Mammals who cannnot fly\",pNMNF)\n",
    "pNMNL=pNMNL/nonm\n",
    "print(\"Probability of Non Mammals who have no legs\",pNMNL)\n",
    "pNM=nonm/len(classification)\n",
    "\n",
    "\n"
   ],
   "outputs": [
    {
     "output_type": "stream",
     "name": "stdout",
     "text": [
      "Probability of Animal having wings 0.2222222222222222\n",
      "Probability of Animal who cannot fly 0.8333333333333334\n",
      "Probability of Animal who cannot have legs 0.2777777777777778\n",
      "Probability of Mammals having wings 0.2857142857142857\n",
      "Probability of Mammals who cannot fly 0.7142857142857143\n",
      "Probability of Mammals who have no lge 0.14285714285714285\n",
      "Probability of Mammals  0.3888888888888889\n",
      "Probability of Non Mammals who have wings 0.18181818181818182\n",
      "Probability of Non Mammals who cannnot fly 0.9090909090909091\n",
      "Probability of Non Mammals who have no legs 0.36363636363636365\n"
     ]
    }
   ],
   "metadata": {}
  },
  {
   "cell_type": "code",
   "execution_count": 41,
   "source": [
    "#using bayes theram \n",
    "pMNFNLW =(pMNCF*pMNHL*pMW*pM)/(pANF*pANL*pAW)  #mammal when no fly,no leg but have wing\n",
    "pNMNFNLW =(pNMNF*pNMNL*pNMW*pNM)/(pANF*pANL*pAW) ##non mammal when no fly,no leg but have wing\n",
    "\n",
    "print(\"Probability of mammal when no fly,no leg but have wing: \",pMNFNLW)\n",
    "print(\"Probability of Non mammal when no fly,no leg but have wing: \",pNMNFNLW)"
   ],
   "outputs": [
    {
     "output_type": "stream",
     "name": "stdout",
     "text": [
      "Probability of mammal when no fly,no leg but have wing:  0.2204081632653061\n",
      "Probability of Non mammal when no fly,no leg but have wing:  0.7140495867768596\n"
     ]
    }
   ],
   "metadata": {}
  }
 ],
 "metadata": {
  "orig_nbformat": 4,
  "language_info": {
   "name": "python",
   "version": "3.6.9",
   "mimetype": "text/x-python",
   "codemirror_mode": {
    "name": "ipython",
    "version": 3
   },
   "pygments_lexer": "ipython3",
   "nbconvert_exporter": "python",
   "file_extension": ".py"
  },
  "kernelspec": {
   "name": "python3",
   "display_name": "Python 3.6.9 64-bit"
  },
  "interpreter": {
   "hash": "767d51c1340bd893661ea55ea3124f6de3c7a262a8b4abca0554b478b1e2ff90"
  }
 },
 "nbformat": 4,
 "nbformat_minor": 2
}