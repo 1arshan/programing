{
 "cells": [
  {
   "cell_type": "code",
   "execution_count": 30,
   "metadata": {},
   "outputs": [
    {
     "name": "stdout",
     "output_type": "stream",
     "text": [
      "Naive Bayes Program Q1\n",
      "Arshan AHmad- 18BCS075\n"
     ]
    }
   ],
   "source": [
    "print(\"Naive Bayes Program Q1\")\n",
    "print(\"Arshan AHmad- 18BCS075\")"
   ]
  },
  {
   "cell_type": "code",
   "execution_count": 31,
   "metadata": {},
   "outputs": [
    {
     "name": "stdout",
     "output_type": "stream",
     "text": [
      "temperature:  ['hot', 'hot', 'hot', 'mild', 'cool', 'cool', 'cool', 'mild', 'cool', 'mild', 'mild', 'mild', 'hot']\n",
      "humidity:  ['high', 'high', 'high', 'high', 'normal', 'normal', 'normal', 'high', 'normal', 'normal', 'normal', 'high', 'normal']\n",
      "windy:  ['false', 'true', 'false', 'false', 'false', 'true', 'true', 'false', 'false', 'false', 'true', 'true', 'false']\n",
      "played:  ['no', 'no', 'yes', 'yes', 'yes', 'no', 'yes', 'no', 'yes', 'yes', 'yes', 'yes', 'yes']\n",
      "outlook:  ['rainy', 'rainy', 'overcast', 'sunny', 'sunny', 'sunny', 'overcast', 'rainy', 'rainy', 'sunny', 'rainy', 'overcast', 'overcast']\n"
     ]
    }
   ],
   "source": [
    "#input and storing into list\n",
    "with open(\"arshan_dataset.csv\") as f:\n",
    "    data=f.read()\n",
    "    rows=data.split('\\n')\n",
    "    temperature=[]\n",
    "    humidity=[]\n",
    "    windy=[]\n",
    "    played=[]\n",
    "    outlook=[]\n",
    "    for row in rows:\n",
    "        temperature.append(row.split(',')[0])\n",
    "        humidity.append(row.split(',')[1])\n",
    "        windy.append(row.split(',')[2])\n",
    "        played.append(row.split(',')[3])\n",
    "        outlook.append(row.split(',')[4])\n",
    "\n",
    "print(\"temperature: \",temperature)\n",
    "print(\"humidity: \",humidity)\n",
    "print(\"windy: \",windy)\n",
    "print(\"played: \",played)\n",
    "print(\"outlook: \",outlook)"
   ]
  },
  {
   "cell_type": "code",
   "execution_count": 32,
   "metadata": {},
   "outputs": [
    {
     "name": "stdout",
     "output_type": "stream",
     "text": [
      "Probability of no played 0.3076923076923077\n",
      "Probability of windy 0.38461538461538464\n",
      "Probability of high humidity 0.46153846153846156\n",
      "Probability of mild temp 0.38461538461538464\n",
      "probabilty of Rainy when no played, windy, High humidty and mild temp 1.0545599999999997\n",
      "probabilty of Overcast when no played, windy, High humidty and mild temp 0.0\n",
      "probabilty of Sunny when no played, windy, High humidty and mild temp 0.1144270833333333\n"
     ]
    }
   ],
   "source": [
    "pRNP=0 #probability rainy no played\n",
    "pRW=0 #probability of rainy windy\n",
    "pRHH=0 #probability of rainy humidity\n",
    "pRTM=0 #probability of rainy temp\n",
    "\n",
    "pONP=0 #probability of overcast no played\n",
    "pOW=0 #probability of overcast windy\n",
    "pOHH=0 #probability of overcast high humidity\n",
    "pOTM=0 #probability of overcast mild temp\n",
    "\n",
    "pSNP=0 #probability of \n",
    "pSW=0 #probability of \n",
    "pSHH=0 #probability of \n",
    "pSTM=0 #probability of \n",
    "\n",
    "temp=0\n",
    "nosd=0 #number of sunny days\n",
    "nord=0  #number of rainy days\n",
    "nood=0  #number of overcast days\n",
    "\n",
    "for i in range(len(outlook)):\n",
    "    if outlook[i]==\"rainy\":\n",
    "        nord+=1\n",
    "        if played[i]==\"no\":\n",
    "            pRNP+=1\n",
    "        if windy[i]==\"true\":\n",
    "            pRW+=1\n",
    "        if humidity[i]==\"high\":\n",
    "            pRHH+=1\n",
    "        if temperature[i]==\"mild\":\n",
    "            pRTM+=1\n",
    "    elif outlook[i]==\"overcast\":\n",
    "        nood+=1\n",
    "        if played[i]==\"no\":\n",
    "            pONP+=1\n",
    "        if windy[i]==\"true\":\n",
    "            pOW+=1\n",
    "        if humidity[i]==\"high\":\n",
    "            pOHH+=1\n",
    "        if temperature[i]==\"mild\":\n",
    "            pOTM+=1\n",
    "    else:\n",
    "        nosd+=1\n",
    "        if played[i]==\"no\":\n",
    "            pSNP+=1\n",
    "        if windy[i]==\"true\":\n",
    "            pSW+=1\n",
    "        if humidity[i]==\"high\":\n",
    "            pSHH+=1\n",
    "        if temperature[i]==\"mild\":\n",
    "            pSTM+=1\n",
    "\n",
    "pNP=(pRNP+pONP+pSNP)/len(outlook)\n",
    "print(\"Probability of no played\",pNP)   \n",
    "pW=(pRW+pOW+pSW)/len(outlook)\n",
    "print(\"Probability of windy\",pW)\n",
    "pHH=(pRHH+pOHH+pSHH)/len(outlook)\n",
    "print(\"Probability of high humidity\",pHH)\n",
    "pTM=(pRTM+pOTM+pSTM)/len(outlook)\n",
    "print(\"Probability of mild temp\",pTM)\n",
    "\n",
    "pRNPWHHTM=(pRNP*pRHH*pRW*pRTM)/(nord*nord*nord*nord) #probabily of \n",
    "pONPWHHTM=(pONP*pOHH*pOW*pOTM)/(nood*nood*nood*nood)\n",
    "pSNPWHHTM=(pSNP*pSHH*pSW*pSTM)/(nosd*nosd*nosd*nosd)\n",
    "\n",
    "\n",
    "\n",
    "\n",
    "pR=pRNPWHHTM*(nord/len(outlook))/(pNP*pTM*pHH*pW) #probabilty of Rainy when no played, windy, High humidty and mild temp\n",
    "pO=pONPWHHTM*(nood/len(outlook))/(pNP*pTM*pHH*pW)   #probabilty of Ovecasr when no played, windy, High humidty and mild temp\n",
    "pS=pSNPWHHTM*(nosd/len(outlook))/(pNP*pTM*pHH*pW)   #probabilty of Sunny when no played, windy, High humidty and mild temp\n",
    "\n",
    "print(\"probabilty of Rainy when no played, windy, High humidty and mild temp\",pR)\n",
    "print(\"probabilty of Overcast when no played, windy, High humidty and mild temp\",pO)\n",
    "print(\"probabilty of Sunny when no played, windy, High humidty and mild temp\",pS)\n"
   ]
  },
  {
   "cell_type": "code",
   "execution_count": null,
   "metadata": {},
   "outputs": [],
   "source": []
  }
 ],
 "metadata": {
  "interpreter": {
   "hash": "767d51c1340bd893661ea55ea3124f6de3c7a262a8b4abca0554b478b1e2ff90"
  },
  "kernelspec": {
   "display_name": "Python 2.7.17 64-bit",
   "language": "python",
   "name": "python3"
  },
  "language_info": {
   "codemirror_mode": {
    "name": "ipython",
    "version": 3
   },
   "file_extension": ".py",
   "mimetype": "text/x-python",
   "name": "python",
   "nbconvert_exporter": "python",
   "pygments_lexer": "ipython3",
   "version": "3.6.9"
  },
  "orig_nbformat": 4
 },
 "nbformat": 4,
 "nbformat_minor": 2
}
