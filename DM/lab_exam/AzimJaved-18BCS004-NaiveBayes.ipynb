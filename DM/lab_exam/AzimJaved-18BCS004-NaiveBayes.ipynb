{
 "cells": [
  {
   "cell_type": "code",
   "execution_count": 1,
   "id": "f0f31fc2",
   "metadata": {},
   "outputs": [
    {
     "name": "stdout",
     "output_type": "stream",
     "text": [
      "Azim Javed: 18BCS004\n",
      "\n",
      "Key to variables: m: mammals, nm: not mammal, y: yes, n: no, st: sometimes, p: probabllity, N: dataset length.\n",
      "\n",
      "m_birth_y means mammal which gives birth. nm_birth_y means mammal which does not give birth\n",
      "\n",
      "p_y_birth_m means the probablity of given birth(y) given it is a mammal(m)\n",
      "\n"
     ]
    }
   ],
   "source": [
    "print(\"Azim Javed: 18BCS004\\n\")\n",
    "print(\"Key to variables: m: mammals, nm: not mammal, y: yes, n: no, st: sometimes, p: probabllity, N: dataset length.\\n\")\n",
    "print(\"m_birth_y means mammal which gives birth. nm_birth_y means mammal which does not give birth\\n\")\n",
    "print(\"p_y_birth_m means the probablity of given birth(y) given it is a mammal(m)\\n\")"
   ]
  },
  {
   "cell_type": "code",
   "execution_count": 2,
   "id": "74db1f38",
   "metadata": {},
   "outputs": [
    {
     "data": {
      "text/plain": [
       "(6, 12, 5, 1, 1, 5, 1, 4, 5, 5, 1, 1, 11, 2, 10, 3, 0, 5, 8, 4)"
      ]
     },
     "execution_count": 2,
     "metadata": {},
     "output_type": "execute_result"
    }
   ],
   "source": [
    "with open('./dataSet.csv') as f:\n",
    "    data = f.read()\n",
    "    rows = data.split('\\n')\n",
    "    N = len(rows)\n",
    "    m = nm = m_birth_y = m_birth_n = nm_birth_y = nm_birth_n = m_fly_y = m_fly_n =  nm_fly_y = nm_fly_n = m_water_y = 0\n",
    "    m_water_st = m_water_n = m_legs_y = m_legs_n = nm_water_y = nm_water_st = nm_water_n = nm_legs_y = nm_legs_n = 0\n",
    "    for row in rows:\n",
    "        r = row.split(',')\n",
    "        if r[4] == 'mammals':\n",
    "            m += 1\n",
    "            if r[0] == 'yes':\n",
    "                m_birth_y += 1\n",
    "            else:\n",
    "                m_birth_n +=1\n",
    "                \n",
    "            if r[1] == 'yes':\n",
    "                m_fly_y += 1\n",
    "            else: \n",
    "                m_fly_n += 1\n",
    "                \n",
    "            if r[2] == 'yes':\n",
    "                m_water_y += 1\n",
    "            elif r[2] == 'no':\n",
    "                m_water_n += 1\n",
    "            else:\n",
    "                m_water_st += 1\n",
    "            \n",
    "            if r[3] == 'yes':\n",
    "                m_legs_y += 1\n",
    "            else:\n",
    "                m_legs_n += 1\n",
    "        \n",
    "        else:\n",
    "            nm += 1\n",
    "            if r[0] == 'yes':\n",
    "                nm_birth_y += 1\n",
    "            else:\n",
    "                nm_birth_n +=1\n",
    "                \n",
    "            if r[1] == 'yes':\n",
    "                nm_fly_y += 1\n",
    "            else: \n",
    "                nm_fly_n += 1\n",
    "                \n",
    "            if r[2] == 'yes':\n",
    "                nm_water_y += 1\n",
    "            elif r[2] == 'no':\n",
    "                nm_water_n += 1\n",
    "            else:\n",
    "                m_water_st += 1\n",
    "            \n",
    "            if r[3] == 'yes':\n",
    "                nm_legs_y += 1\n",
    "            else:\n",
    "                nm_legs_n += 1\n",
    "        \n",
    "\n",
    "m, nm, m_birth_y, m_birth_n, m_fly_y, m_fly_n, m_water_y, m_water_st, m_water_n, m_legs_y, m_legs_n, nm_birth_y, nm_birth_n, nm_fly_y, nm_fly_n, nm_water_y, nm_water_st, nm_water_n, nm_legs_y, nm_legs_n"
   ]
  },
  {
   "cell_type": "code",
   "execution_count": 3,
   "id": "37c4716f",
   "metadata": {},
   "outputs": [
    {
     "name": "stdout",
     "output_type": "stream",
     "text": [
      "Priori Probablity 0.3333333333333333\n",
      "!Priori Probablity 0.6666666666666666\n",
      "\n",
      "\n",
      "P(birth|m) 0.8333333333333334\n",
      "P(!birth|m) 0.16666666666666666\n",
      "\n",
      "\n",
      "P(fly|m) 0.16666666666666666\n",
      "P(!fly|m) 0.8333333333333334\n",
      "\n",
      "\n",
      "P(water|m) 0.16666666666666666\n",
      "P(!water|m) 0.8333333333333334\n",
      "P(water_st|m) 0.6666666666666666\n",
      "\n",
      "\n",
      "P(legs|m) 0.8333333333333334\n",
      "P(!legs|m) 0.16666666666666666\n",
      "\n",
      "\n",
      "P(birth|!m) 0.08333333333333333\n",
      "P(!birth|!m) 0.9166666666666666\n",
      "\n",
      "\n",
      "P(fly|!m) 0.16666666666666666\n",
      "P(!fly|!m) 0.8333333333333334\n",
      "\n",
      "\n",
      "P(water|!m) 0.25\n",
      "P(!water|!m) 0.4166666666666667\n",
      "P(water_st|!m) 0.0\n",
      "\n",
      "\n",
      "P(legs|!m) 0.6666666666666666\n",
      "P(!legs|!m) 0.3333333333333333\n"
     ]
    }
   ],
   "source": [
    "y_prioriProbablity = m/N\n",
    "n_prioriProbablity = nm/N\n",
    "print(\"Priori Probablity\", y_prioriProbablity)\n",
    "print(\"!Priori Probablity\", n_prioriProbablity)\n",
    "print(\"\\n\")\n",
    "\n",
    "p_y_birth_m = m_birth_y/m\n",
    "p_n_birth_m = m_birth_n/m\n",
    "print(\"P(birth|m)\", p_y_birth_m)\n",
    "print(\"P(!birth|m)\", p_n_birth_m)\n",
    "print(\"\\n\")\n",
    "\n",
    "p_y_fly_m = m_fly_y/m\n",
    "p_n_fly_m = m_fly_n/m\n",
    "print(\"P(fly|m)\", p_y_fly_m)\n",
    "print(\"P(!fly|m)\", p_n_fly_m)\n",
    "print(\"\\n\")\n",
    "\n",
    "p_y_water_m = m_water_y/m\n",
    "p_n_water_m = m_water_n/m\n",
    "p_st_water_m = m_water_st/m\n",
    "print(\"P(water|m)\", p_y_water_m)\n",
    "print(\"P(!water|m)\", p_n_water_m)\n",
    "print(\"P(water_st|m)\", p_st_water_m)\n",
    "print(\"\\n\")\n",
    "\n",
    "p_y_legs_m = m_legs_y/m\n",
    "p_n_legs_m = m_legs_n/m\n",
    "print(\"P(legs|m)\", p_y_legs_m)\n",
    "print(\"P(!legs|m)\", p_n_legs_m)\n",
    "print(\"\\n\")\n",
    "\n",
    "p_y_birth_nm = nm_birth_y/nm\n",
    "p_n_birth_nm = nm_birth_n/nm\n",
    "print(\"P(birth|!m)\", p_y_birth_nm)\n",
    "print(\"P(!birth|!m)\", p_n_birth_nm)\n",
    "print(\"\\n\")\n",
    "\n",
    "p_y_fly_nm = nm_fly_y/nm\n",
    "p_n_fly_nm = nm_fly_n/nm\n",
    "print(\"P(fly|!m)\", p_y_fly_nm)\n",
    "print(\"P(!fly|!m)\", p_n_fly_nm)\n",
    "print(\"\\n\")\n",
    "\n",
    "p_y_water_nm = nm_water_y/nm\n",
    "p_n_water_nm = nm_water_n/nm\n",
    "p_st_water_nm = nm_water_st/nm\n",
    "print(\"P(water|!m)\", p_y_water_nm)\n",
    "print(\"P(!water|!m)\", p_n_water_nm)\n",
    "print(\"P(water_st|!m)\", p_st_water_nm)\n",
    "print(\"\\n\")\n",
    "\n",
    "p_y_legs_nm = nm_legs_y/nm\n",
    "p_n_legs_nm = nm_legs_n/nm\n",
    "print(\"P(legs|!m)\", p_y_legs_nm)\n",
    "print(\"P(!legs|!m)\", p_n_legs_nm)"
   ]
  },
  {
   "cell_type": "code",
   "execution_count": 4,
   "id": "ba3d3aaf",
   "metadata": {},
   "outputs": [
    {
     "name": "stdout",
     "output_type": "stream",
     "text": [
      "p_y_mammal:  0.8719135802469136 \tp_n_mammal:  0.6782407407407407\n"
     ]
    }
   ],
   "source": [
    "#Input\n",
    "birth=\"yes\"\n",
    "fly=\"no\"\n",
    "water=\"yes\"\n",
    "legs=\"no\"\n",
    "\n",
    "#Classifying Input on probablity\n",
    "p_y_mammal = y_prioriProbablity\n",
    "p_n_mammal = n_prioriProbablity\n",
    "\n",
    "if birth == \"yes\":\n",
    "    p_y_mammal *= p_y_birth_m\n",
    "    p_n_mammal *= p_y_birth_nm\n",
    "else:\n",
    "    p_y_mammal *= p_n_birth_m\n",
    "    p_n_mammal *= p_n_birth_nm\n",
    "\n",
    "if fly == \"yes\":\n",
    "    p_y_mammal *= p_y_fly_m\n",
    "    p_n_mammal *= p_y_fly_nm\n",
    "else:\n",
    "    p_y_mammal *= p_n_fly_m\n",
    "    p_n_mammal *= p_n_fly_nm\n",
    "    \n",
    "if water == \"yes\":\n",
    "    p_y_mammal *= p_y_water_m\n",
    "    p_n_mammal *= p_y_water_nm\n",
    "elif water == \"no\":\n",
    "    p_y_mammal *= p_n_water_m\n",
    "    p_n_mammal *= p_n_water_nm\n",
    "else:\n",
    "    p_y_mammal *= p_st_water_m\n",
    "    p_n_mammal *= p_st_water_nm\n",
    "\n",
    "if legs == \"no\":\n",
    "    p_y_mammal += p_y_legs_m\n",
    "    p_n_mammal += p_y_legs_nm\n",
    "else:\n",
    "    p_y_mammal += p_n_legs_m\n",
    "    p_n_mammal += p_n_legs_nm\n",
    "    \n",
    "print(\"p_y_mammal: \", p_y_mammal, \"\\tp_n_mammal: \", p_n_mammal)"
   ]
  },
  {
   "cell_type": "code",
   "execution_count": 5,
   "id": "83c173be",
   "metadata": {},
   "outputs": [
    {
     "name": "stdout",
     "output_type": "stream",
     "text": [
      "Probability of being a mammal:  0.8719135802469136\n",
      "Probability of NOT being a mammal:  0.6782407407407407\n",
      "\n",
      "The test is classified into mammals.\n"
     ]
    }
   ],
   "source": [
    "#Classifying Input to a class\n",
    "print(\"Probability of being a mammal: \", p_y_mammal)\n",
    "print(\"Probability of NOT being a mammal: \", p_n_mammal)\n",
    "if p_y_mammal > p_n_mammal:\n",
    "    print(\"\\nThe test is classified into mammals.\")\n",
    "else:\n",
    "    print(\"\\nThe test is classified into not mammals.\")"
   ]
  },
  {
   "cell_type": "code",
   "execution_count": null,
   "id": "68ea1d0f",
   "metadata": {},
   "outputs": [],
   "source": []
  }
 ],
 "metadata": {
  "kernelspec": {
   "display_name": "Python 3 (ipykernel)",
   "language": "python",
   "name": "python3"
  },
  "language_info": {
   "codemirror_mode": {
    "name": "ipython",
    "version": 3
   },
   "file_extension": ".py",
   "mimetype": "text/x-python",
   "name": "python",
   "nbconvert_exporter": "python",
   "pygments_lexer": "ipython3",
   "version": "3.8.8"
  }
 },
 "nbformat": 4,
 "nbformat_minor": 5
}
